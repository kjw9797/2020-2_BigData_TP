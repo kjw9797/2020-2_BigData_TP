{
  "nbformat": 4,
  "nbformat_minor": 0,
  "metadata": {
    "colab": {
      "name": "movielens_knn.ipynb",
      "provenance": [],
      "collapsed_sections": [],
      "authorship_tag": "ABX9TyNkbSHOC6HoZHCUfRALsyo6",
      "include_colab_link": true
    },
    "kernelspec": {
      "display_name": "Python 3",
      "name": "python3"
    }
  },
  "cells": [
    {
      "cell_type": "markdown",
      "metadata": {
        "id": "view-in-github",
        "colab_type": "text"
      },
      "source": [
        "<a href=\"https://colab.research.google.com/github/kjw9797/2020-2_BigData_TP/blob/main/movielens_knn.ipynb\" target=\"_parent\"><img src=\"https://colab.research.google.com/assets/colab-badge.svg\" alt=\"Open In Colab\"/></a>"
      ]
    },
    {
      "cell_type": "code",
      "metadata": {
        "colab": {
          "base_uri": "https://localhost:8080/"
        },
        "id": "W4kxq5TiXElM",
        "outputId": "bd2009a7-d6d2-4cf0-b826-9421d39041f0"
      },
      "source": [
        "from google.colab import drive\n",
        "drive.mount('/content/drive')"
      ],
      "execution_count": null,
      "outputs": [
        {
          "output_type": "stream",
          "text": [
            "Drive already mounted at /content/drive; to attempt to forcibly remount, call drive.mount(\"/content/drive\", force_remount=True).\n"
          ],
          "name": "stdout"
        }
      ]
    },
    {
      "cell_type": "code",
      "metadata": {
        "id": "Lwfx2ETyY6B9"
      },
      "source": [
        "file1 = '/content/drive/MyDrive/ratings.csv'\n",
        "file2 = '/content/drive/MyDrive/movies.csv'"
      ],
      "execution_count": null,
      "outputs": []
    },
    {
      "cell_type": "code",
      "metadata": {
        "id": "27sv4-pUZKaj"
      },
      "source": [
        "import pandas as pd\n",
        "import numpy as np\n",
        "import glob\n",
        "import matplotlib.pyplot as plt\n",
        "from matplotlib.backends.backend_pdf import PdfPages\n",
        "import time"
      ],
      "execution_count": null,
      "outputs": []
    },
    {
      "cell_type": "code",
      "metadata": {
        "id": "LgoNK05NZNQQ"
      },
      "source": [
        "df_ratings = pd.read_csv(file1)\n",
        "df_movies = pd.read_csv(file2, error_bad_lines=False)"
      ],
      "execution_count": null,
      "outputs": []
    },
    {
      "cell_type": "code",
      "metadata": {
        "id": "KsYuzwq6Visw"
      },
      "source": [
        "df= pd.merge(df_ratings.drop('timestamp', axis=1), df_movies.drop('genres', axis=1), how='outer', on='movieId') [['movieId','userId','rating']].sort_values(by=['movieId']).fillna(0)"
      ],
      "execution_count": null,
      "outputs": []
    },
    {
      "cell_type": "code",
      "metadata": {
        "id": "BZvTolMywxBm"
      },
      "source": [
        "genre_list = ['Adventure',\n",
        " 'Animation',\n",
        " 'Children',\n",
        " 'Comedy',\n",
        " 'Fantasy',\n",
        " 'Romance',\n",
        " 'Drama',\n",
        " 'Action',\n",
        " 'Crime',\n",
        " 'Thriller',\n",
        " 'Horror',\n",
        " 'Mystery',\n",
        " 'Sci-Fi',\n",
        " 'IMAX',\n",
        " 'Documentary',\n",
        " 'War',\n",
        " 'Musical',\n",
        " 'Western',\n",
        " 'Film-Noir',\n",
        " '(no genres listed)']"
      ],
      "execution_count": null,
      "outputs": []
    },
    {
      "cell_type": "code",
      "metadata": {
        "colab": {
          "base_uri": "https://localhost:8080/",
          "height": 204
        },
        "id": "yopZzBhtZyAx",
        "outputId": "a6d8eba8-67f3-4760-929e-cfb5776cbe1a"
      },
      "source": [
        "df.head()"
      ],
      "execution_count": null,
      "outputs": [
        {
          "output_type": "execute_result",
          "data": {
            "text/html": [
              "<div>\n",
              "<style scoped>\n",
              "    .dataframe tbody tr th:only-of-type {\n",
              "        vertical-align: middle;\n",
              "    }\n",
              "\n",
              "    .dataframe tbody tr th {\n",
              "        vertical-align: top;\n",
              "    }\n",
              "\n",
              "    .dataframe thead th {\n",
              "        text-align: right;\n",
              "    }\n",
              "</style>\n",
              "<table border=\"1\" class=\"dataframe\">\n",
              "  <thead>\n",
              "    <tr style=\"text-align: right;\">\n",
              "      <th></th>\n",
              "      <th>movieId</th>\n",
              "      <th>userId</th>\n",
              "      <th>rating</th>\n",
              "    </tr>\n",
              "  </thead>\n",
              "  <tbody>\n",
              "    <tr>\n",
              "      <th>643435</th>\n",
              "      <td>1</td>\n",
              "      <td>120023.0</td>\n",
              "      <td>4.0</td>\n",
              "    </tr>\n",
              "    <tr>\n",
              "      <th>605233</th>\n",
              "      <td>1</td>\n",
              "      <td>11386.0</td>\n",
              "      <td>3.0</td>\n",
              "    </tr>\n",
              "    <tr>\n",
              "      <th>605232</th>\n",
              "      <td>1</td>\n",
              "      <td>11385.0</td>\n",
              "      <td>3.0</td>\n",
              "    </tr>\n",
              "    <tr>\n",
              "      <th>605231</th>\n",
              "      <td>1</td>\n",
              "      <td>11382.0</td>\n",
              "      <td>5.0</td>\n",
              "    </tr>\n",
              "    <tr>\n",
              "      <th>605230</th>\n",
              "      <td>1</td>\n",
              "      <td>11380.0</td>\n",
              "      <td>4.5</td>\n",
              "    </tr>\n",
              "  </tbody>\n",
              "</table>\n",
              "</div>"
            ],
            "text/plain": [
              "        movieId    userId  rating\n",
              "643435        1  120023.0     4.0\n",
              "605233        1   11386.0     3.0\n",
              "605232        1   11385.0     3.0\n",
              "605231        1   11382.0     5.0\n",
              "605230        1   11380.0     4.5"
            ]
          },
          "metadata": {
            "tags": []
          },
          "execution_count": 13
        }
      ]
    },
    {
      "cell_type": "code",
      "metadata": {
        "id": "3qWRHTebaoQ2"
      },
      "source": [
        "from sklearn.neighbors import NearestNeighbors\n",
        "model_knn = NearestNeighbors(metric='cosine', algorithm='brute', n_neighbors=20, n_jobs=-1)"
      ],
      "execution_count": null,
      "outputs": []
    },
    {
      "cell_type": "code",
      "metadata": {
        "id": "HmSz6kV3apYl"
      },
      "source": [
        "movieProperties = df.groupby('movieId').agg({'rating': [np.size, np.mean]})\n",
        " \n",
        "movieNumRatings = pd.DataFrame(movieProperties['rating']['size'])\n",
        "movieNormalizedNumRatings = movieNumRatings.apply(lambda x: (x - np.min(x)) / (np.max(x) - np.min(x)))"
      ],
      "execution_count": null,
      "outputs": []
    },
    {
      "cell_type": "code",
      "metadata": {
        "colab": {
          "base_uri": "https://localhost:8080/",
          "height": 204
        },
        "id": "LbMdNSlWc2ql",
        "outputId": "64778441-7fe4-4f6d-deb2-69f50e40c863"
      },
      "source": [
        "df_movies.head()"
      ],
      "execution_count": null,
      "outputs": [
        {
          "output_type": "execute_result",
          "data": {
            "text/html": [
              "<div>\n",
              "<style scoped>\n",
              "    .dataframe tbody tr th:only-of-type {\n",
              "        vertical-align: middle;\n",
              "    }\n",
              "\n",
              "    .dataframe tbody tr th {\n",
              "        vertical-align: top;\n",
              "    }\n",
              "\n",
              "    .dataframe thead th {\n",
              "        text-align: right;\n",
              "    }\n",
              "</style>\n",
              "<table border=\"1\" class=\"dataframe\">\n",
              "  <thead>\n",
              "    <tr style=\"text-align: right;\">\n",
              "      <th></th>\n",
              "      <th>movieId</th>\n",
              "      <th>title</th>\n",
              "      <th>genres</th>\n",
              "    </tr>\n",
              "  </thead>\n",
              "  <tbody>\n",
              "    <tr>\n",
              "      <th>0</th>\n",
              "      <td>1</td>\n",
              "      <td>Toy Story (1995)</td>\n",
              "      <td>Adventure|Animation|Children|Comedy|Fantasy</td>\n",
              "    </tr>\n",
              "    <tr>\n",
              "      <th>1</th>\n",
              "      <td>2</td>\n",
              "      <td>Jumanji (1995)</td>\n",
              "      <td>Adventure|Children|Fantasy</td>\n",
              "    </tr>\n",
              "    <tr>\n",
              "      <th>2</th>\n",
              "      <td>3</td>\n",
              "      <td>Grumpier Old Men (1995)</td>\n",
              "      <td>Comedy|Romance</td>\n",
              "    </tr>\n",
              "    <tr>\n",
              "      <th>3</th>\n",
              "      <td>4</td>\n",
              "      <td>Waiting to Exhale (1995)</td>\n",
              "      <td>Comedy|Drama|Romance</td>\n",
              "    </tr>\n",
              "    <tr>\n",
              "      <th>4</th>\n",
              "      <td>5</td>\n",
              "      <td>Father of the Bride Part II (1995)</td>\n",
              "      <td>Comedy</td>\n",
              "    </tr>\n",
              "  </tbody>\n",
              "</table>\n",
              "</div>"
            ],
            "text/plain": [
              "   movieId  ...                                       genres\n",
              "0        1  ...  Adventure|Animation|Children|Comedy|Fantasy\n",
              "1        2  ...                   Adventure|Children|Fantasy\n",
              "2        3  ...                               Comedy|Romance\n",
              "3        4  ...                         Comedy|Drama|Romance\n",
              "4        5  ...                                       Comedy\n",
              "\n",
              "[5 rows x 3 columns]"
            ]
          },
          "metadata": {
            "tags": []
          },
          "execution_count": 16
        }
      ]
    },
    {
      "cell_type": "code",
      "metadata": {
        "id": "HLgrXQhZash2"
      },
      "source": [
        "movieDict = {}\n",
        "for index, row in df_movies.iterrows():    \n",
        "  movieID = int(row['movieId'])\n",
        "  name = row['title']\n",
        "  genres = row[2:].str.split('|')\n",
        "  genres = list(genres.values)  \n",
        "  temp = []\n",
        "  for gen in genre_list:    \n",
        "    if gen in genres[0]:\n",
        "      temp.append(1)\n",
        "    else:\n",
        "      temp.append(0)\n",
        "  movieDict[movieID] = (name, np.array(temp), movieNormalizedNumRatings.loc[movieID].get('size'), movieProperties.loc[movieID].rating.get('mean'))"
      ],
      "execution_count": null,
      "outputs": []
    },
    {
      "cell_type": "code",
      "metadata": {
        "colab": {
          "base_uri": "https://localhost:8080/"
        },
        "id": "trmDre2DbBPg",
        "outputId": "41abca77-7d06-4bd0-da21-b12b4f7fd507"
      },
      "source": [
        "from scipy import spatial\n",
        " \n",
        "# 장르, 인기도의 cosine 유사도 적용\n",
        "def ComputeDistance(a, b):\n",
        "    genresA = a[1]\n",
        "    genresB = b[1]\n",
        "    genreDistance = spatial.distance.cosine(genresA, genresB)\n",
        "    popularityA = a[2]\n",
        "    popularityB = b[2]\n",
        "    popularityDistance = abs(popularityA - popularityB)\n",
        "    return genreDistance + popularityDistance\n",
        " \n",
        "ComputeDistance(movieDict[1], movieDict[4])"
      ],
      "execution_count": null,
      "outputs": [
        {
          "output_type": "execute_result",
          "data": {
            "text/plain": [
              "1.4141044603571462"
            ]
          },
          "metadata": {
            "tags": []
          },
          "execution_count": 18
        }
      ]
    },
    {
      "cell_type": "code",
      "metadata": {
        "colab": {
          "base_uri": "https://localhost:8080/"
        },
        "id": "3gYBClP22Lqr",
        "outputId": "5233bee0-7f53-4333-9b81-3c820d8c6f57"
      },
      "source": [
        "import operator\n",
        " \n",
        "# neighbors 출력\n",
        "def getNeighbors(movieID, K):\n",
        "    distances = []\n",
        "    for movie in movieDict:\n",
        "        # 같은 movie가 아닐때만 movie distance를 구함\n",
        "        if (movie != movieID):\n",
        "            dist = ComputeDistance(movieDict[movieID], movieDict[movie])\n",
        "            distances.append((movie, dist))\n",
        "    # movie distance를 sort시켜주어 가장 가까운 영화들을 추천\n",
        "    distances.sort(key=operator.itemgetter(1))\n",
        "    neighbors = []\n",
        "    neighbor_distance = []\n",
        "    for x in range(K):\n",
        "        neighbors.append(distances[x][0])\n",
        "        neighbor_distance.append(distances[x][1])\n",
        "    return neighbors, neighbor_distance\n",
        " \n",
        " \n",
        "# 최종 추천\n",
        "def recommend(movieID,K):\n",
        "    avgRating = 0\n",
        "    print(movieDict[movieID], '\\n')\n",
        "    neighbors, neighbor_distance = getNeighbors(movieID, K) \n",
        "    idx = 0    \n",
        "    for neighbor in neighbors:\n",
        "        # neigbor의 평균 rating을 더해줌\n",
        "        avgRating += movieDict[neighbor][3]\n",
        "        print(movieDict[neighbor][0] + \", with distance of \" + str(neighbor_distance[idx]) + \"  avg ratings: \" + str(movieDict[neighbor][3]))\n",
        "        idx = idx+1\n",
        "    avgRating /= K\n",
        "    print(\"평균 Rating: \",avgRating)\n",
        " \n",
        "recommend(1,10)"
      ],
      "execution_count": null,
      "outputs": [
        {
          "output_type": "stream",
          "text": [
            "('Toy Story (1995)', array([1, 1, 1, 1, 1, 0, 0, 0, 0, 0, 0, 0, 0, 0, 0, 0, 0, 0, 0, 0]), 0.703251932752485, 3.893707794587238) \n",
            "\n",
            "Shrek (2001), with distance of 0.27127436472581523  avg ratings: 3.7548282627709617\n",
            "Monsters, Inc. (2001), with distance of 0.27901583016321024  avg ratings: 3.8486202707393264\n",
            "Aladdin (1992), with distance of 0.3710148484476623  avg ratings: 3.6987526802388584\n",
            "Toy Story 2 (1999), with distance of 0.37762915695177324  avg ratings: 3.8114636719927644\n",
            "Finding Nemo (2003), with distance of 0.3828706369544343  avg ratings: 3.8339767227471766\n",
            "Lord of the Rings: The Fellowship of the Ring, The (2001), with distance of 0.3868474499273009  avg ratings: 4.091188818716808\n",
            "Lord of the Rings: The Two Towers, The (2002), with distance of 0.4432715510440024  avg ratings: 4.0680511556963515\n",
            "Monty Python and the Holy Grail (1975), with distance of 0.4657518397780283  avg ratings: 4.147655276621689\n",
            "Incredibles, The (2004), with distance of 0.5282243220026996  avg ratings: 3.854885151495321\n",
            "Bug's Life, A (1998), with distance of 0.5330853872305418  avg ratings: 3.569155800809933\n",
            "평균 Rating:  3.867857781182919\n"
          ],
          "name": "stdout"
        }
      ]
    },
    {
      "cell_type": "code",
      "metadata": {
        "colab": {
          "background_save": true
        },
        "id": "l8K-LkdW9c2X"
      },
      "source": [
        "while True:\r\n",
        "  movie_name = str(input('movie name: '))  \r\n",
        "  for idx in movieDict:\r\n",
        "    if movie_name in movieDict[idx][0]:\r\n",
        "      recommend(idx, 10)\r\n",
        "      break;  "
      ],
      "execution_count": null,
      "outputs": []
    }
  ]
}